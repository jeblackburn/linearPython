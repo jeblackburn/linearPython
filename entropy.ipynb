{
 "cells": [
  {
   "cell_type": "code",
   "execution_count": 7,
   "metadata": {
    "collapsed": true
   },
   "outputs": [],
   "source": [
    "import math\n",
    "\n",
    "import numpy as np\n"
   ]
  },
  {
   "cell_type": "code",
   "execution_count": 3,
   "outputs": [
    {
     "name": "stdout",
     "output_type": "stream",
     "text": [
      "13 17 30\n",
      "entropy sub50 0.39124356362925566\n",
      "entropy over50 0.7871265862012691\n",
      "Root entropy 0.6155772764200632\n"
     ]
    }
   ],
   "source": [
    "own_default = 12\n",
    "own_payoff = 1\n",
    "own_total = own_payoff + own_default\n",
    "\n",
    "rent_default = 4\n",
    "rent_payoff = 13\n",
    "rent_total = rent_default + rent_payoff\n",
    "\n",
    "total = rent_total + own_total\n",
    "\n",
    "print(own_total, rent_total, total)\n",
    "\n",
    "def leaf_entropy_side(k, s):\n",
    "    pk = k / s\n",
    "    return pk*math.log2(pk)\n",
    "\n",
    "\n",
    "sub50_entropy = -(leaf_entropy_side(own_default, own_total) + leaf_entropy_side(\n",
    "    own_payoff, own_total))\n",
    "print(\"entropy sub50\", sub50_entropy)\n",
    "\n",
    "over50_entropy = -(leaf_entropy_side(rent_default, rent_total) + leaf_entropy_side(rent_payoff, rent_total))\n",
    "print(\"entropy over50\", over50_entropy)\n",
    "\n",
    "print(\"Root entropy\", (own_total / total) * sub50_entropy + (rent_total / total) * over50_entropy)\n"
   ],
   "metadata": {
    "collapsed": false,
    "pycharm": {
     "name": "#%%\n"
    }
   }
  },
  {
   "cell_type": "code",
   "execution_count": 5,
   "outputs": [
    {
     "name": "stdout",
     "output_type": "stream",
     "text": [
      "13 17 30\n",
      "entropy sub50 0.9957274520849255\n",
      "entropy over50 0.9975025463691152\n",
      "Root entropy 0.9967333388459664\n"
     ]
    }
   ],
   "source": [
    "own_default = 7\n",
    "own_payoff = 6\n",
    "own_total = own_payoff + own_default\n",
    "\n",
    "rent_default = 9\n",
    "rent_payoff = 8\n",
    "rent_total = rent_default + rent_payoff\n",
    "\n",
    "total = rent_total + own_total\n",
    "\n",
    "print(own_total, rent_total, total)\n",
    "\n",
    "def leaf_entropy_side(k, s):\n",
    "    pk = k / s\n",
    "    return pk*math.log2(pk)\n",
    "\n",
    "\n",
    "sub50_entropy = -(leaf_entropy_side(own_default, own_total) + leaf_entropy_side(\n",
    "    own_payoff, own_total))\n",
    "print(\"entropy sub50\", sub50_entropy)\n",
    "\n",
    "over50_entropy = -(leaf_entropy_side(rent_default, rent_total) + leaf_entropy_side(rent_payoff, rent_total))\n",
    "print(\"entropy over50\", over50_entropy)\n",
    "\n",
    "print(\"Root entropy\", (own_total / total) * sub50_entropy + (rent_total / total) * over50_entropy)\n"
   ],
   "metadata": {
    "collapsed": false,
    "pycharm": {
     "name": "#%%\n"
    }
   }
  },
  {
   "cell_type": "code",
   "execution_count": 15,
   "outputs": [
    {
     "name": "stdout",
     "output_type": "stream",
     "text": [
      "[array([0, 1]), array([2, 3]), array([4, 5]), array([6, 7]), array([8, 9])]\n"
     ]
    },
    {
     "data": {
      "text/plain": "array([[0, 1],\n       [4, 5],\n       [6, 7],\n       [8, 9]])"
     },
     "execution_count": 15,
     "metadata": {},
     "output_type": "execute_result"
    }
   ],
   "source": [
    "x = np.arange(10)\n",
    "x = np.array_split(x, 5)\n",
    "print(x)\n",
    "np.delete(x, 1, axis=0)"
   ],
   "metadata": {
    "collapsed": false,
    "pycharm": {
     "name": "#%%\n"
    }
   }
  },
  {
   "cell_type": "code",
   "execution_count": 20,
   "outputs": [
    {
     "name": "stderr",
     "output_type": "stream",
     "text": [
      "/Users/pivotal/workspace/udemy/linearPython/venv/lib/python3.6/site-packages/numpy/core/_asarray.py:83: VisibleDeprecationWarning: Creating an ndarray from ragged nested sequences (which is a list-or-tuple of lists-or-tuples-or ndarrays with different lengths or shapes) is deprecated. If you meant to do this, you must specify 'dtype=object' when creating the ndarray\n",
      "  return array(a, dtype, copy=False, order=order)\n"
     ]
    },
    {
     "data": {
      "text/plain": "[(array([array([2]), array([3]), array([4])], dtype=object), array([0, 1])),\n (array([array([0, 1]), array([3]), array([4])], dtype=object), array([2])),\n (array([array([0, 1]), array([2]), array([4])], dtype=object), array([3])),\n (array([array([0, 1]), array([2]), array([3])], dtype=object), array([4]))]"
     },
     "execution_count": 20,
     "metadata": {},
     "output_type": "execute_result"
    }
   ],
   "source": [
    "def generate_kFold(n, k):\n",
    "    \"\"\"\n",
    "    Generates [(training_indices, validation_indices), ...] for k-fold validation.\n",
    "\n",
    "    Input:\n",
    "        n: number of training examples\n",
    "        k: number of folds\n",
    "\n",
    "    Output:\n",
    "        kfold_indices: a list of length k. Each entry takes the form (training indices, validation indices)\n",
    "    \"\"\"\n",
    "    assert k >= 2\n",
    "    kfold_indices = []\n",
    "\n",
    "    examples = np.arange(n)\n",
    "\n",
    "    # divide examples into k subdivisions\n",
    "    splits = np.array_split(examples, k)\n",
    "    # print(splits)\n",
    "    for x in range(k):\n",
    "#         print(np.delete(splits, x, axis=0))\n",
    "#         print(splits[x])\n",
    "        kfold_indices.append((np.delete(splits, x, axis=0).flatten(), splits[x]))\n",
    "\n",
    "    return kfold_indices\n",
    "generate_kFold(5, 4)"
   ],
   "metadata": {
    "collapsed": false,
    "pycharm": {
     "name": "#%%\n"
    }
   }
  },
  {
   "cell_type": "code",
   "execution_count": 31,
   "outputs": [],
   "source": [
    "x = np.array_split(np.arange(10), 3)"
   ],
   "metadata": {
    "collapsed": false,
    "pycharm": {
     "name": "#%%\n"
    }
   }
  },
  {
   "cell_type": "code",
   "execution_count": 32,
   "outputs": [
    {
     "data": {
      "text/plain": "[array([0, 1, 2, 3]), array([4, 5, 6]), array([7, 8, 9])]"
     },
     "execution_count": 32,
     "metadata": {},
     "output_type": "execute_result"
    }
   ],
   "source": [
    "x"
   ],
   "metadata": {
    "collapsed": false,
    "pycharm": {
     "name": "#%%\n"
    }
   }
  },
  {
   "cell_type": "code",
   "execution_count": 33,
   "outputs": [
    {
     "data": {
      "text/plain": "array([0, 1, 2, 3, 4, 5, 6, 7, 8, 9])"
     },
     "execution_count": 33,
     "metadata": {},
     "output_type": "execute_result"
    }
   ],
   "source": [
    "np.concatenate([d.ravel() for d in x])"
   ],
   "metadata": {
    "collapsed": false,
    "pycharm": {
     "name": "#%%\n"
    }
   }
  },
  {
   "cell_type": "code",
   "execution_count": 34,
   "outputs": [
    {
     "data": {
      "text/plain": "9"
     },
     "execution_count": 34,
     "metadata": {},
     "output_type": "execute_result"
    }
   ],
   "source": [
    "10 - 10%3"
   ],
   "metadata": {
    "collapsed": false,
    "pycharm": {
     "name": "#%%\n"
    }
   }
  },
  {
   "cell_type": "code",
   "execution_count": null,
   "outputs": [],
   "source": [],
   "metadata": {
    "collapsed": false,
    "pycharm": {
     "name": "#%%\n"
    }
   }
  }
 ],
 "metadata": {
  "kernelspec": {
   "display_name": "Python 3",
   "language": "python",
   "name": "python3"
  },
  "language_info": {
   "codemirror_mode": {
    "name": "ipython",
    "version": 2
   },
   "file_extension": ".py",
   "mimetype": "text/x-python",
   "name": "python",
   "nbconvert_exporter": "python",
   "pygments_lexer": "ipython2",
   "version": "2.7.6"
  }
 },
 "nbformat": 4,
 "nbformat_minor": 0
}
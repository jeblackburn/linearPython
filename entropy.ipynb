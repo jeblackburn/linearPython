{
 "cells": [
  {
   "cell_type": "code",
   "execution_count": 3,
   "metadata": {
    "collapsed": true
   },
   "outputs": [],
   "source": [
    "import math\n"
   ]
  },
  {
   "cell_type": "code",
   "execution_count": 20,
   "outputs": [
    {
     "name": "stdout",
     "output_type": "stream",
     "text": [
      "13 17 30\n",
      "entropy sub50 0.39124356362925566\n",
      "entropy over50 0.7871265862012691\n",
      "Root entropy 0.6155772764200632\n"
     ]
    }
   ],
   "source": [
    "own_default = 12\n",
    "own_payoff = 1\n",
    "own_total = own_payoff + own_default\n",
    "\n",
    "rent_default = 4\n",
    "rent_payoff = 13\n",
    "rent_total = rent_default + rent_payoff\n",
    "\n",
    "total = rent_total + own_total\n",
    "\n",
    "print(own_total, rent_total, total)\n",
    "\n",
    "def leaf_entropy_side(k, s):\n",
    "    pk = k / s\n",
    "    return pk*math.log2(pk)\n",
    "\n",
    "\n",
    "sub50_entropy = -(leaf_entropy_side(own_default, own_total) + leaf_entropy_side(\n",
    "    own_payoff, own_total))\n",
    "print(\"entropy sub50\", sub50_entropy)\n",
    "\n",
    "over50_entropy = -(leaf_entropy_side(rent_default, rent_total) + leaf_entropy_side(rent_payoff, rent_total))\n",
    "print(\"entropy over50\", over50_entropy)\n",
    "\n",
    "print(\"Root entropy\", (own_total / total) * sub50_entropy + (rent_total / total) * over50_entropy)\n"
   ],
   "metadata": {
    "collapsed": false,
    "pycharm": {
     "name": "#%%\n"
    }
   }
  },
  {
   "cell_type": "code",
   "execution_count": 21,
   "outputs": [
    {
     "name": "stdout",
     "output_type": "stream",
     "text": [
      "13 17 30\n",
      "entropy sub50 0.9957274520849255\n",
      "entropy over50 0.9975025463691152\n",
      "Root entropy 0.9967333388459664\n"
     ]
    }
   ],
   "source": [
    "own_default = 7\n",
    "own_payoff = 6\n",
    "own_total = own_payoff + own_default\n",
    "\n",
    "rent_default = 9\n",
    "rent_payoff = 8\n",
    "rent_total = rent_default + rent_payoff\n",
    "\n",
    "total = rent_total + own_total\n",
    "\n",
    "print(own_total, rent_total, total)\n",
    "\n",
    "def leaf_entropy_side(k, s):\n",
    "    pk = k / s\n",
    "    return pk*math.log2(pk)\n",
    "\n",
    "\n",
    "sub50_entropy = -(leaf_entropy_side(own_default, own_total) + leaf_entropy_side(\n",
    "    own_payoff, own_total))\n",
    "print(\"entropy sub50\", sub50_entropy)\n",
    "\n",
    "over50_entropy = -(leaf_entropy_side(rent_default, rent_total) + leaf_entropy_side(rent_payoff, rent_total))\n",
    "print(\"entropy over50\", over50_entropy)\n",
    "\n",
    "print(\"Root entropy\", (own_total / total) * sub50_entropy + (rent_total / total) * over50_entropy)\n"
   ],
   "metadata": {
    "collapsed": false,
    "pycharm": {
     "name": "#%%\n"
    }
   }
  },
  {
   "cell_type": "code",
   "execution_count": null,
   "outputs": [],
   "source": [],
   "metadata": {
    "collapsed": false,
    "pycharm": {
     "name": "#%%\n"
    }
   }
  }
 ],
 "metadata": {
  "kernelspec": {
   "display_name": "Python 3",
   "language": "python",
   "name": "python3"
  },
  "language_info": {
   "codemirror_mode": {
    "name": "ipython",
    "version": 2
   },
   "file_extension": ".py",
   "mimetype": "text/x-python",
   "name": "python",
   "nbconvert_exporter": "python",
   "pygments_lexer": "ipython2",
   "version": "2.7.6"
  }
 },
 "nbformat": 4,
 "nbformat_minor": 0
}